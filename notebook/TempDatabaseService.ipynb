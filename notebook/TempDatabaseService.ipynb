{
 "cells": [
  {
   "cell_type": "markdown",
   "id": "ef21cd44",
   "metadata": {},
   "source": [
    "TempDatabaseService\n",
    "---\n",
    "\n",
    "The TempDatabaseService is used to create an ephemeral database. It's \\_\\_init\\_\\_ expects a `url` to connect to an existing database instance. In some cases the TempDatabaseService can be configured to create a database instance instead of connecting to an existing instance (e.g. using `psql` if `postgresql` is installed).\n",
    "\n",
    "In this example we will use **docker** to create a **postgres** instance to connect to. This pattern can be leveraged in CI pipelines to provide a database instance for testing.\n",
    "\n",
    "_Note: TempDatabaseService is not a construct of the knockoff.sdk and is a utility that can be used to create an ephemeral database that the knockoff.sdk connects to and populates with data configured for the various test cases._\n",
    "\n",
    "\n",
    "### Create database instance\n",
    "\n",
    "The following docker command creates a postgres instance (url=`postgresql://postgres@localhost:5432/postgres`)\n",
    "\n",
    "`docker run --rm  --name pg-docker -e POSTGRES_HOST_AUTH_METHOD=trust -d -p 5432:5432  postgres:11.9`\n",
    "\n",
    "\n",
    "### Instantiate TempDatabaseService"
   ]
  },
  {
   "cell_type": "code",
   "execution_count": 1,
   "id": "6a09eeeb",
   "metadata": {},
   "outputs": [],
   "source": [
    "from knockoff.tempdb.db import TempDatabaseService\n",
    "from knockoff.tempdb.setup_teardown import postgres_setup_teardown\n",
    "\n",
    "url = \"postgresql://postgres@localhost:5432/postgres\"\n",
    "temp_db_service = TempDatabaseService(\n",
    "    url,\n",
    "    setup_teardown=postgres_setup_teardown\n",
    ")"
   ]
  },
  {
   "cell_type": "markdown",
   "id": "1ee6dc4e",
   "metadata": {},
   "source": [
    "### setup_teardown\n",
    "\n",
    "The setup_teardown parameter expects a generator function that takes a url and returns a generator that yields a single value, the url of the temp database created in the database instance. The default setup_teardown is the **postgres_setup_teardown**.\n",
    "\n",
    "Below is an example pseudo implementation of a setup_teardown generator function.\n",
    "\n",
    "```\n",
    "def some_setup_teardown(url):\n",
    "    \n",
    "    # do some setup (optional)\n",
    "    # connect to the database instance at url\n",
    "    # create a new database at temp_url\n",
    "    temp_url = ... # url for temp database (we recommend using a uid for a unique name to avoid collisions)\n",
    "    \n",
    "    # provides the temp_url to the TempDatabaseService\n",
    "    yield temp_url\n",
    "    \n",
    "    # do some teardown (optional)\n",
    "```\n",
    "\n",
    "### start the service\n",
    "\n",
    "`start()` will create the temp database and return the url to the caller. The caller can use the `temp_url` to configure the application or services to connect to the temp database."
   ]
  },
  {
   "cell_type": "code",
   "execution_count": 2,
   "id": "6d20702c",
   "metadata": {},
   "outputs": [
    {
     "name": "stdout",
     "output_type": "stream",
     "text": [
      "postgresql://postgres@localhost:5432/test_1e82c2a4a322428cbbefb980f40c2f00\n"
     ]
    }
   ],
   "source": [
    "temp_url = temp_db_service.start()\n",
    "print(temp_url)"
   ]
  },
  {
   "cell_type": "markdown",
   "id": "65dc6fde",
   "metadata": {},
   "source": [
    "### stop the service\n",
    "\n",
    "`stop()` will destroy the temp database."
   ]
  },
  {
   "cell_type": "code",
   "execution_count": 3,
   "id": "5fbbf597",
   "metadata": {},
   "outputs": [],
   "source": [
    "temp_db_service.stop()"
   ]
  },
  {
   "cell_type": "markdown",
   "id": "359f5a32",
   "metadata": {},
   "source": [
    "### initialize_tables\n",
    "\n",
    "The application can use the temp_url to make a connection and initialize it's tables. However, this can also be performed by the TempDatabaseService by providing a callable that takes a url to the `initialize_tables` parameter in the \\_\\_init\\_\\_. This callable should connect to the database with the temp_url and initialize the applications tables. By default the initialize_tables parameter is None and TempDatabaseService will not attempt to make the `initialize_tables(temp_url)` call. \n",
    "\n",
    "\n",
    "### SqlAlchemyInitTablesFunc\n",
    "(`knockoff.tempdb.initialize_tables:SqlAlchemyInitTablesFunc`)\n",
    "\n",
    "SqlAlchemyInitTablesFunc accepts a sqlalchemy declarative base in its \\_\\_init\\_\\_ which creates a callable that takes a url and initializes the tables using the metadata from the base.\n",
    "\n",
    "### pytest fixture\n",
    "\n",
    "This class can be used as a pytest fixture to provide ephemeral databases for each unit test using the following pattern."
   ]
  },
  {
   "cell_type": "code",
   "execution_count": 4,
   "id": "2d3ead4d",
   "metadata": {},
   "outputs": [],
   "source": [
    "import pytest\n",
    "from sqlalchemy import create_engine\n",
    "\n",
    "from knockoff.tempdb.db import TempDatabaseService\n",
    "from knockoff.tempdb.setup_teardown import postgres_setup_teardown\n",
    "from knockoff.tempdb.initialize_tables import SqlAlchemyInitTablesFunc\n",
    "\n",
    "@pytest.fixture(scope=\"function\")\n",
    "def empty_db_engine():\n",
    "    \"\"\"\n",
    "    This fixture returns a sqlalchemy \n",
    "    engine to connect to an \n",
    "    an empty temp database\n",
    "    \"\"\"\n",
    "\n",
    "    # setup\n",
    "\n",
    "    url = .. # application provides some way to create the url\n",
    "    base = .. # application provides the sqlalchemy declarative base with\n",
    "              # metadata to initialize tables with it's data model\n",
    "\n",
    "    temp_db_service = TempDatabaseService(\n",
    "        url,\n",
    "        setup_teardown=postgres_setup_teardown,\n",
    "        initialize_tables=SqlAlchemyInitTablesFunc(base)\n",
    "    )\n",
    "\n",
    "    # setup the database and initialize the tables\n",
    "    temp_url = temp_db_service.start()\n",
    "\n",
    "    # application should configure itself to connect to the temp_url\n",
    "\n",
    "    engine = create_engine(new_url)\n",
    "    yield engine\n",
    "\n",
    "    # tear down\n",
    "    temp_db_service.stop()\n"
   ]
  }
 ],
 "metadata": {
  "kernelspec": {
   "display_name": "Python 3 (ipykernel)",
   "language": "python",
   "name": "python3"
  },
  "language_info": {
   "codemirror_mode": {
    "name": "ipython",
    "version": 3
   },
   "file_extension": ".py",
   "mimetype": "text/x-python",
   "name": "python",
   "nbconvert_exporter": "python",
   "pygments_lexer": "ipython3",
   "version": "3.7.8"
  }
 },
 "nbformat": 4,
 "nbformat_minor": 5
}
